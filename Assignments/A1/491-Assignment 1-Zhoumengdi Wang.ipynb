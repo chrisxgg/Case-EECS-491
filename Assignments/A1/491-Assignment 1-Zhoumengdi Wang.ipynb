{
 "cells": [
  {
   "cell_type": "markdown",
   "metadata": {},
   "source": [
    "EECS 491 - Assignment 1"
   ]
  },
  {
   "cell_type": "markdown",
   "metadata": {},
   "source": [
    "1.Whatʼs the data and hidden parameter (or representation) in you problem?\n",
    "I download from a dataset that including two attributes:sepal length and sepal width.\n",
    "The hidden parameter is the type of iris. In order to make the problem simply, I mark class=1 (Iris Setosa), class =2 (Iris Versicolour)  and class =3(Iris Virginica). So the hidden parameter has three value:  C=1, C=2 and C=3. "
   ]
  },
  {
   "cell_type": "markdown",
   "metadata": {},
   "source": [
    "2.Whatʼs the generative process in your model (how the data in you model\n",
    "generated) and how to generate random data with program?\n",
    "The dataset I download is not random, the order is the classification of three types iris.\n",
    "Then I make the data randomly, and get 100 of them to make the iris_data.csv."
   ]
  },
  {
   "cell_type": "markdown",
   "metadata": {},
   "source": [
    "3.Whatʼs the prior, likelihood, and posterior in your model?\n",
    "The prior is the probability of the three types iris in 100 examples."
   ]
  },
  {
   "cell_type": "code",
   "execution_count": 1,
   "metadata": {},
   "outputs": [],
   "source": [
    "import numpy as np\n",
    "import matplotlib.pyplot as plt\n",
    "import pandas as pd\n",
    "iris=pd.read_csv('iris_data.csv')\n",
    "iris=pd.DataFrame(iris)"
   ]
  },
  {
   "cell_type": "code",
   "execution_count": 8,
   "metadata": {},
   "outputs": [],
   "source": [
    "def prior_class(df):\n",
    "    count1=0\n",
    "    count2=0\n",
    "    count3=0\n",
    "    for i in range (len(df)):\n",
    "        if df.iloc[i,2]==1:\n",
    "            count1=count1+1\n",
    "        elif df.iloc[i,2]==2:\n",
    "            count2=count2+1\n",
    "        elif df.iloc[i,2]==3:\n",
    "            count3=count3+1\n",
    "    prior1=count1/100\n",
    "    prior2=count2/100\n",
    "    prior3=count3/100\n",
    "    fig=plt.figure()\n",
    "    ax=fig.add_subplot(121)\n",
    "    data=np.array([prior1,prior2,prior3])\n",
    "    width=0.3\n",
    "    x_bar=np.arange(3)\n",
    "    rect=ax.bar(x=x_bar,height=data,width=width)\n",
    "    ax.set_xticks(x_bar)\n",
    "    ax.set_xticklabels((\"1\",\"2\",\"3\"))\n",
    "    plt.show()\n",
    "    print('prior of class 1 (Iris Setosa)is prior_1:',prior1) \n",
    "    print('prior of class 2 (Iris Versicolour) is prior_2:',prior2) \n",
    "    print('prior of class 3 (Iris Virginica) is prior_3:',prior3) \n",
    "    prior=[prior1,prior2,prior3]\n",
    "    return prior"
   ]
  },
  {
   "cell_type": "code",
   "execution_count": 9,
   "metadata": {},
   "outputs": [
    {
     "data": {
      "image/png": "[encoded data removed]",
      "text/plain": [
       "<matplotlib.figure.Figure at 0x1135e62b0>"
      ]
     },
     "metadata": {},
     "output_type": "display_data"
    },
    {
     "name": "stdout",
     "output_type": "stream",
     "text": [
      "prior of class 1 (Iris Setosa)is prior_1: 0.29\n",
      "prior of class 2 (Iris Versicolour) is prior_2: 0.37\n",
      "prior of class 3 (Iris Virginica) is prior_3: 0.34\n"
     ]
    }
   ],
   "source": [
    "prior=prior_class(iris)"
   ]
  },
  {
   "cell_type": "markdown",
   "metadata": {},
   "source": [
    "So the prior:\n",
    "P(C=1)=0.29\n",
    "P(C=2)=0.37\n",
    "P(C=3)=0.34"
   ]
  },
  {
   "cell_type": "markdown",
   "metadata": {},
   "source": [
    "The likelihood is kind of complex.\n",
    "There are two attributes of each type iris. I divide the first attribute (sepal length) into three parts: length<=5, 5<length<=7 and length >7. \n",
    "Then I divide second attribute into two parts: width>=3 and width <3. \n",
    "The likelihood is : \n",
    "P(a1<=5|C=1), P(5<a1<=7|C=1), P(a1>7|C=1), \n",
    "P(a1<=5|C=2), P(5<a1<=7|C=2), P(a1>7|C=2), \n",
    "P(a1<=5|C=3), P(5<a1<=7|C=3), P(a1>7|C=3), \n",
    "P(a1<=3|C=1), P(a1>3|C=1),\n",
    "P(a1<=3|C=2), P(a1>3|C=2),\n",
    "P(a1<=3|C=3), P(a1>3|C=3)\n",
    "\n",
    "After training the data, I randomly select a iris from the left data of original dataset.\n",
    "I will get the two attributes a1,a2 of the new iris.\n",
    "The posterior is :\n",
    "P(C|a1,a2) "
   ]
  },
  {
   "cell_type": "markdown",
   "metadata": {},
   "source": [
    "4.How to calculate the likelihood with program?\n",
    "In each type of iris, I use program to count how many iris in each part of a1,a2.\n",
    "Then make a division to get the likelihood. "
   ]
  },
  {
   "cell_type": "code",
   "execution_count": 11,
   "metadata": {},
   "outputs": [],
   "source": [
    "def count_attribute1(df,prior):\n",
    "    count1_a1_1=0\n",
    "    count1_a1_2=0\n",
    "    count1_a1_3=0\n",
    "    count2_a1_1=0\n",
    "    count2_a1_2=0\n",
    "    count2_a1_3=0\n",
    "    count3_a1_1=0\n",
    "    count3_a1_2=0\n",
    "    count3_a1_3=0\n",
    "    for i in range(len(df)):\n",
    "        if df.iloc[i,2]==1:\n",
    "            if (df.iloc[i,0]<=5):\n",
    "                count1_a1_1=count1_a1_1+1\n",
    "            elif (df.iloc[i,0]>5)&(df.iloc[i,0]<=7):\n",
    "                count1_a1_2=count1_a1_2+1\n",
    "            elif (df.iloc[i,0]>7):\n",
    "                count1_a1_3=count1_a1_3+1\n",
    "        if df.iloc[i,2]==2:\n",
    "            if (df.iloc[i,0]<=5):\n",
    "                count2_a1_1=count2_a1_1+1\n",
    "            elif (df.iloc[i,0]>5)&(df.iloc[i,0]<=7):\n",
    "                count2_a1_2=count2_a1_2+1\n",
    "            elif (df.iloc[i,0]>7):\n",
    "                count2_a1_3=count2_a1_3+1\n",
    "        if df.iloc[i,2]==3:\n",
    "            if (df.iloc[i,0]<=5):\n",
    "                count3_a1_1=count3_a1_1+1\n",
    "            elif (df.iloc[i,0]>5)&(df.iloc[i,0]<=7):\n",
    "                count3_a1_2=count3_a1_2+1\n",
    "            elif (df.iloc[i,0]>7):\n",
    "                count3_a1_3=count3_a1_3+1\n",
    "    count1_a1_1=count1_a1_1/(prior[0]*100)\n",
    "    count1_a1_2=count1_a1_2/(prior[0]*100)\n",
    "    count1_a1_3=count1_a1_3/(prior[0]*100)\n",
    "    count2_a1_1=count2_a1_1/(prior[1]*100)\n",
    "    count2_a1_2=count2_a1_2/(prior[1]*100)\n",
    "    count2_a1_3=count2_a1_3/(prior[1]*100)\n",
    "    count3_a1_1=count3_a1_1/(prior[2]*100)\n",
    "    count3_a1_2=count3_a1_2/(prior[2]*100)\n",
    "    count3_a1_3=count3_a1_3/(prior[2]*100)\n",
    "    likelihood_count1_a1_1=round(count1_a1_1,2)\n",
    "    likelihood_count1_a1_2=round(count1_a1_2,2)\n",
    "    likelihood_count1_a1_3=round(count1_a1_3,2)\n",
    "    likelihood_count2_a1_1=round(count2_a1_1,2)\n",
    "    likelihood_count2_a1_2=round(count2_a1_2,2)\n",
    "    likelihood_count2_a1_3=round(count2_a1_3,2)\n",
    "    likelihood_count3_a1_1=round(count3_a1_1,2)\n",
    "    likelihood_count3_a1_2=round(count3_a1_2,2)\n",
    "    likelihood_count3_a1_3=round(count3_a1_3,2)\n",
    "    print('likelihood_count1_a1_1',likelihood_count1_a1_1)\n",
    "    print('likelihood_count1_a1_2',likelihood_count1_a1_2)\n",
    "    print('likelihood_count1_a1_3',likelihood_count1_a1_3)\n",
    "    print('likelihood_count2_a1_1',likelihood_count2_a1_1)\n",
    "    print('likelihood_count2_a1_2',likelihood_count2_a1_2)\n",
    "    print('likelihood_count2_a1_3',likelihood_count2_a1_3)\n",
    "    print('likelihood_count3_a1_1',likelihood_count3_a1_1)\n",
    "    print('likelihood_count3_a1_2',likelihood_count3_a1_2)\n",
    "    print('likelihood_count3_a1_3',likelihood_count3_a1_3)\n",
    "    likelihood_a1=[likelihood_count1_a1_1,likelihood_count1_a1_2,likelihood_count1_a1_3,likelihood_count2_a1_1,likelihood_count2_a1_2,likelihood_count2_a1_3,likelihood_count3_a1_1,likelihood_count3_a1_2,likelihood_count3_a1_3]\n",
    "    return likelihood_a1       "
   ]
  },
  {
   "cell_type": "code",
   "execution_count": 12,
   "metadata": {},
   "outputs": [],
   "source": [
    "def count_attribute2(df,prior):\n",
    "    count1_a2_1=0\n",
    "    count1_a2_2=0\n",
    "    count2_a2_1=0\n",
    "    count2_a2_2=0\n",
    "    count3_a2_1=0\n",
    "    count3_a2_2=0\n",
    "    for i in range(len(df)):\n",
    "        if df.iloc[i,2]==1:\n",
    "            if (df.iloc[i,1]<=3):\n",
    "                count1_a2_1=count1_a2_1+1\n",
    "            elif (df.iloc[i,1]>3):\n",
    "                count1_a2_2=count1_a2_2+1\n",
    "        if df.iloc[i,2]==2:\n",
    "            if (df.iloc[i,1]<=3):\n",
    "                count2_a2_1=count2_a2_1+1\n",
    "            elif (df.iloc[i,1]>3):\n",
    "                count2_a2_2=count2_a2_2+1\n",
    "        if df.iloc[i,2]==3:\n",
    "            if (df.iloc[i,1]<=3):\n",
    "                count3_a2_1=count3_a2_1+1\n",
    "            elif (df.iloc[i,1]>3):\n",
    "                count3_a2_2=count3_a2_2+1\n",
    "    count1_a2_1=count1_a2_1/(prior[0]*100)\n",
    "    count1_a2_2=count1_a2_2/(prior[0]*100)\n",
    "    count2_a2_1=count2_a2_1/(prior[1]*100)\n",
    "    count2_a2_2=count2_a2_2/(prior[1]*100)\n",
    "    count3_a2_1=count3_a2_1/(prior[2]*100)\n",
    "    count3_a2_2=count3_a2_2/(prior[2]*100)\n",
    "    likelihood_count1_a2_1=round(count1_a2_1,2)\n",
    "    likelihood_count1_a2_2=round(count1_a2_2,2)\n",
    "    likelihood_count2_a2_1=round(count2_a2_1,2)\n",
    "    likelihood_count2_a2_2=round(count2_a2_2,2)\n",
    "    likelihood_count3_a2_1=round(count3_a2_1,2)\n",
    "    likelihood_count3_a2_2=round(count3_a2_2,2)\n",
    "    print('likelihood_count1_a2_1',likelihood_count1_a2_1)\n",
    "    print('likelihood_count1_a2_2',likelihood_count1_a2_2)\n",
    "    print('likelihood_count2_a2_1',likelihood_count2_a2_1)\n",
    "    print('likelihood_count2_a2_2',likelihood_count2_a2_2)\n",
    "    print('likelihood_count3_a2_1',likelihood_count3_a2_1)\n",
    "    print('likelihood_count3_a2_2',likelihood_count3_a2_2)\n",
    "    likelihood_a2=[likelihood_count1_a2_1,likelihood_count1_a2_2,likelihood_count2_a2_1,likelihood_count2_a2_2,likelihood_count3_a2_1,likelihood_count3_a2_2]\n",
    "    return likelihood_a2"
   ]
  },
  {
   "cell_type": "markdown",
   "metadata": {},
   "source": [
    "The results of all likelihood:"
   ]
  },
  {
   "cell_type": "code",
   "execution_count": 20,
   "metadata": {},
   "outputs": [
    {
     "name": "stdout",
     "output_type": "stream",
     "text": [
      "likelihood_count1_a1_1 0.55\n",
      "likelihood_count1_a1_2 0.45\n",
      "likelihood_count1_a1_3 0.0\n",
      "likelihood_count2_a1_1 0.08\n",
      "likelihood_count2_a1_2 0.92\n",
      "likelihood_count2_a1_3 0.0\n",
      "likelihood_count3_a1_1 0.0\n",
      "likelihood_count3_a1_2 0.74\n",
      "likelihood_count3_a1_3 0.26\n",
      "likelihood_count1_a2_1 0.14\n",
      "likelihood_count1_a2_2 0.86\n",
      "likelihood_count2_a2_1 0.86\n",
      "likelihood_count2_a2_2 0.14\n",
      "likelihood_count3_a2_1 0.62\n",
      "likelihood_count3_a2_2 0.38\n"
     ]
    }
   ],
   "source": [
    "likelihood_a1=count_attribute1(iris,prior)\n",
    "likelihood_a2=count_attribute2(iris,prior)"
   ]
  },
  {
   "cell_type": "markdown",
   "metadata": {},
   "source": [
    "5.How to calculate the posterior with program?\n",
    "$$ P(C \\mid a1,a2) = \\frac{P(a1,a2 \\mid C)P(C)}{P(a1,a2)} $$\n",
    "In the three types iris, the P(a1,a2) are same, so we only need to compare:\n",
    "$$ P(C \\mid a1,a2) =P(a1,a2 \\mid C)P(C)$$"
   ]
  },
  {
   "cell_type": "markdown",
   "metadata": {},
   "source": [
    "6.With a given data sample, whatʼs the posterior distribution looks like, and whatʼs the best estimation of hidden parameter.  \n",
    "Here is the first example I select :                             \n",
    "sepal length: 5.3\n",
    "sepal width: 3.7  \n",
    "Then start to calculate the posterior of three type iris. "
   ]
  },
  {
   "cell_type": "code",
   "execution_count": 15,
   "metadata": {},
   "outputs": [],
   "source": [
    "def posterior_1(a,b,prior,likelihood_a1,likelihood_a2):\n",
    "    if (a<=5):\n",
    "        prior_a1=likelihood_a1[0]\n",
    "    elif (a>5)&(a<=7):\n",
    "            prior_a1=likelihood_a1[1]\n",
    "    elif (a>7):\n",
    "            prior_a1=likelihood_a1[2]\n",
    "    if(b<=3):\n",
    "        prior_a2=likelihood_a2[0]\n",
    "    elif (b>3):\n",
    "        prior_a2=likelihood_a2[1]\n",
    "    posterior = prior[0]*prior_a1*prior_a2\n",
    "    posterior=round(posterior,2)\n",
    "    print(posterior)\n",
    "    return posterior        "
   ]
  },
  {
   "cell_type": "code",
   "execution_count": 16,
   "metadata": {},
   "outputs": [],
   "source": [
    "def posterior_2(a,b,prior,likelihood_a1,likelihood_a2):\n",
    "    if (a<=5):\n",
    "        prior_a1=likelihood_a1[3]\n",
    "    elif (a>5)&(a<=7):\n",
    "            prior_a1=likelihood_a1[4]\n",
    "    elif (a>7):\n",
    "            prior_a1=likelihood_a1[5]\n",
    "    if(b<=3):\n",
    "        prior_a2=likelihood_a2[2]\n",
    "    elif (b>3):\n",
    "        prior_a2=likelihood_a2[3]\n",
    "    posterior = prior[1]*prior_a1*prior_a2\n",
    "    posterior=round(posterior,2)\n",
    "    print(posterior)\n",
    "    return posterior   "
   ]
  },
  {
   "cell_type": "code",
   "execution_count": 17,
   "metadata": {},
   "outputs": [],
   "source": [
    "def posterior_3(a,b,prior,likelihood_a1,likelihood_a2):\n",
    "    if (a<=5):\n",
    "        prior_a1=likelihood_a1[6]\n",
    "    elif (a>5)&(a<=7):\n",
    "            prior_a1=likelihood_a1[7]\n",
    "    elif (a>7):\n",
    "            prior_a1=likelihood_a1[8]\n",
    "    if(b<=3):\n",
    "        prior_a2=likelihood_a2[4]\n",
    "    elif (b>3):\n",
    "        prior_a2=likelihood_a2[5]\n",
    "    posterior = prior[2]*prior_a1*prior_a2\n",
    "    posterior=round(posterior,2)\n",
    "    print(posterior)\n",
    "    return posterior"
   ]
  },
  {
   "cell_type": "code",
   "execution_count": 29,
   "metadata": {},
   "outputs": [
    {
     "name": "stdout",
     "output_type": "stream",
     "text": [
      "0.11\n",
      "0.05\n",
      "0.1\n"
     ]
    }
   ],
   "source": [
    "c1=posterior_1(5.3,3.7,prior,likelihood_a1,likelihood_a2)\n",
    "c2=posterior_2(5.3,3.7,prior,likelihood_a1,likelihood_a2)\n",
    "c3=posterior_3(5.3,3.7,prior,likelihood_a1,likelihood_a2)"
   ]
  },
  {
   "cell_type": "markdown",
   "metadata": {},
   "source": [
    "Then draw the distribution: "
   ]
  },
  {
   "cell_type": "code",
   "execution_count": 30,
   "metadata": {},
   "outputs": [
    {
     "data": {
      "image/png": "[encoded data removed]",
      "text/plain": [
       "<matplotlib.figure.Figure at 0x1136e45f8>"
      ]
     },
     "metadata": {},
     "output_type": "display_data"
    }
   ],
   "source": [
    "fig=plt.figure()\n",
    "ax=fig.add_subplot(121)\n",
    "data=np.array([c1,c2,c3])\n",
    "x=np.arange(3)\n",
    "ax.scatter(x=x,y=data)\n",
    "ax.set_xticks(x)\n",
    "ax.set_xticklabels((\"Setosa\",\"Versicolour\",\"Virginica\"))\n",
    "plt.show()"
   ]
  },
  {
   "cell_type": "markdown",
   "metadata": {},
   "source": [
    "According to the distribution, the best estimation of hidden parameter is c=1, the iris I selected is Setosa."
   ]
  },
  {
   "cell_type": "markdown",
   "metadata": {},
   "source": [
    "7.if you use repeating test and take multiple samples, how does the posterior distribution evolves in the progress?  \n",
    "I select another new iris:  \n",
    "sepal length: 6.1 sepal width: 2.9"
   ]
  },
  {
   "cell_type": "code",
   "execution_count": 31,
   "metadata": {},
   "outputs": [
    {
     "name": "stdout",
     "output_type": "stream",
     "text": [
      "0.02\n",
      "0.29\n",
      "0.16\n"
     ]
    }
   ],
   "source": [
    "d1=posterior_1(6.1,2.9,prior,likelihood_a1,likelihood_a2)\n",
    "d2=posterior_2(6.1,2.9,prior,likelihood_a1,likelihood_a2)\n",
    "d3=posterior_3(6.1,2.9,prior,likelihood_a1,likelihood_a2)"
   ]
  },
  {
   "cell_type": "code",
   "execution_count": 32,
   "metadata": {},
   "outputs": [
    {
     "data": {
      "image/png": "[encoded data removed]",
      "text/plain": [
       "<matplotlib.figure.Figure at 0x11354d128>"
      ]
     },
     "metadata": {},
     "output_type": "display_data"
    }
   ],
   "source": [
    "fig=plt.figure()\n",
    "ax=fig.add_subplot(121)\n",
    "data=np.array([d1,d2,d3])\n",
    "x=np.arange(3)\n",
    "ax.scatter(x=x,y=data)\n",
    "ax.set_xticks(x)\n",
    "ax.set_xticklabels((\"Setosa\",\"Versicolour\",\"Virginica\"))\n",
    "plt.show()"
   ]
  },
  {
   "cell_type": "markdown",
   "metadata": {},
   "source": [
    "According to the distribution of second selected iris, the best estimation of hidden parameter is c=1, the iris I selected is Setosa."
   ]
  },
  {
   "cell_type": "code",
   "execution_count": 34,
   "metadata": {},
   "outputs": [
    {
     "name": "stdout",
     "output_type": "stream",
     "text": [
      "0.0\n",
      "0.0\n",
      "0.05\n"
     ]
    }
   ],
   "source": [
    "e1=posterior_1(7.7,3,prior,likelihood_a1,likelihood_a2)\n",
    "e2=posterior_2(7.7,3,prior,likelihood_a1,likelihood_a2)\n",
    "e3=posterior_3(7.7,3,prior,likelihood_a1,likelihood_a2)"
   ]
  },
  {
   "cell_type": "code",
   "execution_count": 35,
   "metadata": {},
   "outputs": [
    {
     "data": {
      "image/png": "[encoded data removed]",
      "text/plain": [
       "<matplotlib.figure.Figure at 0x1134d20f0>"
      ]
     },
     "metadata": {},
     "output_type": "display_data"
    }
   ],
   "source": [
    "fig=plt.figure()\n",
    "ax=fig.add_subplot(121)\n",
    "data=np.array([e1,e2,e3])\n",
    "x=np.arange(3)\n",
    "ax.scatter(x=x,y=data)\n",
    "ax.set_xticks(x)\n",
    "ax.set_xticklabels((\"Setosa\",\"Versicolour\",\"Virginica\"))\n",
    "plt.show()"
   ]
  },
  {
   "cell_type": "markdown",
   "metadata": {},
   "source": [
    "According to the distribution of third selected iris, the best estimation of hidden parameter is c=1, the iris I selected is Setosa."
   ]
  },
  {
   "cell_type": "markdown",
   "metadata": {},
   "source": [
    "More thought: According to the iris I selected, the classification all classifies them into correct class. But I find that because of the parts of each attribute, the posterior always be some constant values. So I think I should add more attribute and divide each attribute into more parts. That will cause the classification more accurate."
   ]
  },
  {
   "cell_type": "code",
   "execution_count": null,
   "metadata": {},
   "outputs": [],
   "source": []
  }
 ],
 "metadata": {
  "kernelspec": {
   "display_name": "Python 3",
   "language": "python",
   "name": "python3"
  },
  "language_info": {
   "codemirror_mode": {
    "name": "ipython",
    "version": 3
   },
   "file_extension": ".py",
   "mimetype": "text/x-python",
   "name": "python",
   "nbconvert_exporter": "python",
   "pygments_lexer": "ipython3",
   "version": "3.6.4"
  }
 },
 "nbformat": 4,
 "nbformat_minor": 2
}
